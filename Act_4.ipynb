{
  "nbformat": 4,
  "nbformat_minor": 0,
  "metadata": {
    "colab": {
      "provenance": [],
      "authorship_tag": "ABX9TyOdreqsn3ZCgOFnEzSGsDpo",
      "include_colab_link": true
    },
    "kernelspec": {
      "name": "python3",
      "display_name": "Python 3"
    },
    "language_info": {
      "name": "python"
    }
  },
  "cells": [
    {
      "cell_type": "markdown",
      "metadata": {
        "id": "view-in-github",
        "colab_type": "text"
      },
      "source": [
        "<a href=\"https://colab.research.google.com/github/Franzgvw/Act-4-/blob/main/Act_4.ipynb\" target=\"_parent\"><img src=\"https://colab.research.google.com/assets/colab-badge.svg\" alt=\"Open In Colab\"/></a>"
      ]
    },
    {
      "cell_type": "code",
      "execution_count": null,
      "metadata": {
        "id": "itCczlOfWnQL"
      },
      "outputs": [],
      "source": [
        "%pip install funpymodeling"
      ]
    },
    {
      "cell_type": "code",
      "source": [
        "import pandas as pd\n",
        "import numpy as np\n",
        "import matplotlib.pyplot as plt\n",
        "from funpymodeling.exploratory import freq_tbl"
      ],
      "metadata": {
        "id": "XkkWUvhCW3B4"
      },
      "execution_count": null,
      "outputs": []
    },
    {
      "cell_type": "code",
      "source": [
        "from google.colab import files\n",
        "files.upload()"
      ],
      "metadata": {
        "id": "WQGBHD6LW73Q"
      },
      "execution_count": null,
      "outputs": []
    },
    {
      "cell_type": "code",
      "source": [
        "Micro_Retailer = pd.read_excel(\"microretailer_mit_lift_lab.xlsx\")"
      ],
      "metadata": {
        "id": "b7JOr56qXEWp"
      },
      "execution_count": 5,
      "outputs": []
    },
    {
      "cell_type": "code",
      "source": [
        "pd.options.display.max_columns= None\n",
        "Micro_Retailer.head(3)"
      ],
      "metadata": {
        "id": "87w17UoOXFqH"
      },
      "execution_count": null,
      "outputs": []
    },
    {
      "cell_type": "code",
      "source": [
        "filtro3=Micro_Retailer.iloc[ : , [1,3,9,10,11,12,13,15,20,21,22,23,25,27,31,34,35,36,87,86]]\n",
        "filtro3"
      ],
      "metadata": {
        "id": "gr12EENbXJrF"
      },
      "execution_count": null,
      "outputs": []
    },
    {
      "cell_type": "code",
      "source": [
        "filtro3.isnull().sum()"
      ],
      "metadata": {
        "id": "qTO8cA9dXRBN"
      },
      "execution_count": null,
      "outputs": []
    },
    {
      "cell_type": "code",
      "source": [
        "data= filtro3.copy()"
      ],
      "metadata": {
        "id": "IOKS91YVXS9I"
      },
      "execution_count": 9,
      "outputs": []
    },
    {
      "cell_type": "code",
      "source": [
        "data[\"18_sales_records\"]=data[\"18_sales_records\"].fillna(\"18_sales_records\")\n",
        "data[\"145_number_direct_competitors\"]=data[\"145_number_direct_competitors\"].fillna(round(filtro3[\"2_current_permanent_employees\"].mean(),1))\n",
        "data[\"186_internet_connection\"]=data[\"186_internet_connection\"].fillna(\"sin registro\")\n",
        "data[\"210_sales_channels\"]=data[\"210_sales_channels\"].fillna(\"sin registro\")\n",
        "data[\"189_payment_methods\"]=data[\"189_payment_methods\"].fillna(\"sin registro\")\n",
        "data[\"158_charact_organize_products_on_shelves\"]=data[\"158_charact_organize_products_on_shelves\"].fillna(\"sin registro\")\n",
        "data[\"157_frequency_organize_shelves\"]=data[\"157_frequency_organize_shelves\"].fillna(\"sin registro\")"
      ],
      "metadata": {
        "id": "s33X_phEXVwc"
      },
      "execution_count": 10,
      "outputs": []
    },
    {
      "cell_type": "code",
      "source": [
        "data[\"2_current_permanent_employees\"]=data[\"2_current_permanent_employees\"].fillna(round(filtro3[\"2_current_permanent_employees\"].mean(),1))\n",
        "data[\"4_number_permanent_employees_last_year\"]=data[\"4_number_permanent_employees_last_year\"].fillna(round(filtro3[\"4_number_permanent_employees_last_year\"].median(),1))\n",
        "data[\"5_change_store_space_last_year\"]=data[\"5_change_store_space_last_year\"].fillna(\"sin registro\")\n",
        "data[\"20_reviews_finances_monthly\"]=data[\"20_reviews_finances_monthly\"].fillna(\"sin registro\")"
      ],
      "metadata": {
        "id": "LIz5UgDXXb4B"
      },
      "execution_count": 11,
      "outputs": []
    },
    {
      "cell_type": "code",
      "source": [
        "data[\"184_store_devices\"]=data[\"184_store_devices\"].fillna(\"smartphone\")\n",
        "data[\"233_date_establishment\"]=data[\"233_date_establishment\"].fillna(\"no register\")"
      ],
      "metadata": {
        "id": "jYlxmmudXfn-"
      },
      "execution_count": 12,
      "outputs": []
    },
    {
      "cell_type": "code",
      "source": [
        "valores_nulos=data.isnull().sum()\n",
        "valores_nulos"
      ],
      "metadata": {
        "id": "nOdN6vXVXmL3"
      },
      "execution_count": null,
      "outputs": []
    },
    {
      "cell_type": "code",
      "source": [
        "Cuantitativas=data.iloc[ : , [10,14]]\n",
        "Cuantitativas"
      ],
      "metadata": {
        "id": "RZ8htSB2XppV"
      },
      "execution_count": null,
      "outputs": []
    },
    {
      "cell_type": "code",
      "source": [
        "Cualitativas=data.iloc[ : , [0,1,2,4,5,8,15,16,17,18]]\n",
        "Cualitativas"
      ],
      "metadata": {
        "id": "lMHisIBlXyRX"
      },
      "execution_count": null,
      "outputs": []
    },
    {
      "cell_type": "code",
      "source": [
        "fig = plt.figure(figsize =(15, 8))\n",
        "Cuantitativas.plot(kind='box', vert=True)\n",
        "plt.title(\"Valores Atípicos del Dataframe\")\n",
        "plt.show() #dibujamos el diagrama"
      ],
      "metadata": {
        "id": "sZ9OSJB8YLZc"
      },
      "execution_count": null,
      "outputs": []
    },
    {
      "cell_type": "code",
      "source": [
        "y=(Cuantitativas)\n",
        "Limite_Superior= y.mean() + 3*y.std()\n",
        "Limite_Inferior= y.mean() - 3*y.std()\n",
        "print(\"Limite superior permitido\", Limite_Superior)\n",
        "print(\"Limite inferior permitido\", Limite_Inferior)"
      ],
      "metadata": {
        "id": "iS1khWFOYUa9"
      },
      "execution_count": null,
      "outputs": []
    },
    {
      "cell_type": "code",
      "source": [
        "Datos_sin_Outliers= Cuantitativas[(y<=Limite_Superior)&(y>=Limite_Inferior)]\n",
        "Datos_sin_Outliers"
      ],
      "metadata": {
        "id": "ubw6wTVNYWhT"
      },
      "execution_count": null,
      "outputs": []
    },
    {
      "cell_type": "code",
      "source": [
        "valores_nulos=Datos_sin_Outliers.isnull().sum()\n",
        "valores_nulos"
      ],
      "metadata": {
        "colab": {
          "base_uri": "https://localhost:8080/"
        },
        "id": "Z4XaZTyhYaGp",
        "outputId": "7c2b1e31-b959-4402-dd0d-a64556e13363"
      },
      "execution_count": 34,
      "outputs": [
        {
          "output_type": "execute_result",
          "data": {
            "text/plain": [
              "4_number_permanent_employees_last_year    1\n",
              "145_number_direct_competitors             4\n",
              "dtype: int64"
            ]
          },
          "metadata": {},
          "execution_count": 34
        }
      ]
    },
    {
      "cell_type": "code",
      "source": [
        "data_clean=Datos_sin_Outliers.copy()\n",
        "data_clean=data_clean.fillna(round(Datos_sin_Outliers.mean(),1))\n",
        "data_clean"
      ],
      "metadata": {
        "id": "zmC26r3JYeIy"
      },
      "execution_count": null,
      "outputs": []
    },
    {
      "cell_type": "code",
      "source": [
        "valores_nulos=data_clean.isnull().sum()\n",
        "valores_nulos"
      ],
      "metadata": {
        "id": "8YIoTH4vYhXF"
      },
      "execution_count": null,
      "outputs": []
    },
    {
      "cell_type": "code",
      "source": [
        "Dfinal = pd.concat([Cualitativas, data_clean], axis=1)\n",
        "Dfinal"
      ],
      "metadata": {
        "id": "e_UJaZk0Yksz",
        "colab": {
          "base_uri": "https://localhost:8080/",
          "height": 686
        },
        "outputId": "6fe8094c-2544-4c47-c9fa-59edd2fe4497"
      },
      "execution_count": 37,
      "outputs": [
        {
          "output_type": "execute_result",
          "data": {
            "text/plain": [
              "                _title           _updated_by                232_type_of_store  \\\n",
              "0    November 12, 2022  Salomon Abdala Perez                           Tailor   \n",
              "1    November 12, 2022  Salomon Abdala Perez   Grocery store (aka. nanostore)   \n",
              "2    November 12, 2022  Salomon Abdala Perez   Grocery store (aka. nanostore)   \n",
              "3    November 12, 2022  Salomon Abdala Perez   Grocery store (aka. nanostore)   \n",
              "4    November 12, 2022  Salomon Abdala Perez   Grocery store (aka. nanostore)   \n",
              "..                 ...                   ...                              ...   \n",
              "166   November 3, 2022          Emilio Garza   Grocery store (aka. nanostore)   \n",
              "167   November 3, 2022          Emilio Garza   Grocery store (aka. nanostore)   \n",
              "168   November 3, 2022          Emilio Garza  Micro-restaurant (aka. fondita)   \n",
              "169   November 3, 2022        Francisco Adán  Micro-restaurant (aka. fondita)   \n",
              "170   November 3, 2022          Emilio Garza  Micro-restaurant (aka. fondita)   \n",
              "\n",
              "    99_does_the_micro_retailer_exhibits_products_outside_  \\\n",
              "0                                                   no      \n",
              "1                                                  yes      \n",
              "2                                                   no      \n",
              "3                                                   no      \n",
              "4                                                   no      \n",
              "..                                                 ...      \n",
              "166                                                 no      \n",
              "167                                                 no      \n",
              "168                                                 no      \n",
              "169                                                 no      \n",
              "170                                                 no      \n",
              "\n",
              "    102_does_the_micro_retailer_sells_fresh_products_ 233_date_establishment  \\\n",
              "0                                                  no             2021-04-12   \n",
              "1                                                 yes             2012-08-12   \n",
              "2                                                  no             2022-08-12   \n",
              "3                                                  no             2008-11-12   \n",
              "4                                                  no             2007-10-12   \n",
              "..                                                ...                    ...   \n",
              "166                                                no            no register   \n",
              "167                                                no            no register   \n",
              "168                                               yes            no register   \n",
              "169                                               yes            no register   \n",
              "170                                               yes             2022-11-03   \n",
              "\n",
              "    186_internet_connection  \\\n",
              "0                       yes   \n",
              "1                       yes   \n",
              "2                       yes   \n",
              "3                       yes   \n",
              "4                       yes   \n",
              "..                      ...   \n",
              "166            sin registro   \n",
              "167            sin registro   \n",
              "168            sin registro   \n",
              "169            sin registro   \n",
              "170            sin registro   \n",
              "\n",
              "                                    210_sales_channels  \\\n",
              "0    Llamada a Teléfono celular,Llamada a Teléfono ...   \n",
              "1                                             WhatsApp   \n",
              "2    Redes sociales (e.g. Facebook, Instagram),What...   \n",
              "3                              Llamada a Teléfono fijo   \n",
              "4                           Llamada a Teléfono celular   \n",
              "..                                                 ...   \n",
              "166                                       sin registro   \n",
              "167                                       sin registro   \n",
              "168                                       sin registro   \n",
              "169                                       sin registro   \n",
              "170                                       sin registro   \n",
              "\n",
              "                                   189_payment_methods  \\\n",
              "0                 Efectivo,Transferencia interbancaria   \n",
              "1                 Efectivo,Transferencia interbancaria   \n",
              "2               Efectivo,Tarjeta de débito y/o crédito   \n",
              "3    Efectivo,Tarjeta de débito y/o crédito,Transfe...   \n",
              "4    Efectivo,Tarjeta de débito y/o crédito,Transfe...   \n",
              "..                                                 ...   \n",
              "166                                       sin registro   \n",
              "167                                       sin registro   \n",
              "168                                       sin registro   \n",
              "169                                       sin registro   \n",
              "170                                       sin registro   \n",
              "\n",
              "              158_charact_organize_products_on_shelves  \\\n",
              "0    Categoría (e.g. limpieza, aseo personal, comes...   \n",
              "1    Categoría (e.g. limpieza, aseo personal, comes...   \n",
              "2    Categoría (e.g. limpieza, aseo personal, comes...   \n",
              "3    Categoría (e.g. limpieza, aseo personal, comes...   \n",
              "4                  Venta cruzada (e.g. cereal + leche)   \n",
              "..                                                 ...   \n",
              "166                                       sin registro   \n",
              "167                                       sin registro   \n",
              "168                                       sin registro   \n",
              "169                                       sin registro   \n",
              "170                                       sin registro   \n",
              "\n",
              "     4_number_permanent_employees_last_year  145_number_direct_competitors  \n",
              "0                                       2.0                            3.0  \n",
              "1                                       1.0                            4.0  \n",
              "2                                       2.0                            0.0  \n",
              "3                                       1.0                            4.0  \n",
              "4                                       0.0                            0.0  \n",
              "..                                      ...                            ...  \n",
              "166                                     1.0                            2.1  \n",
              "167                                     1.0                            2.1  \n",
              "168                                     1.0                            2.1  \n",
              "169                                     1.0                            2.1  \n",
              "170                                     1.0                            2.1  \n",
              "\n",
              "[171 rows x 12 columns]"
            ],
            "text/html": [
              "\n",
              "  <div id=\"df-2fd095dc-6005-448c-a71a-d1d47cd0db03\" class=\"colab-df-container\">\n",
              "    <div>\n",
              "<style scoped>\n",
              "    .dataframe tbody tr th:only-of-type {\n",
              "        vertical-align: middle;\n",
              "    }\n",
              "\n",
              "    .dataframe tbody tr th {\n",
              "        vertical-align: top;\n",
              "    }\n",
              "\n",
              "    .dataframe thead th {\n",
              "        text-align: right;\n",
              "    }\n",
              "</style>\n",
              "<table border=\"1\" class=\"dataframe\">\n",
              "  <thead>\n",
              "    <tr style=\"text-align: right;\">\n",
              "      <th></th>\n",
              "      <th>_title</th>\n",
              "      <th>_updated_by</th>\n",
              "      <th>232_type_of_store</th>\n",
              "      <th>99_does_the_micro_retailer_exhibits_products_outside_</th>\n",
              "      <th>102_does_the_micro_retailer_sells_fresh_products_</th>\n",
              "      <th>233_date_establishment</th>\n",
              "      <th>186_internet_connection</th>\n",
              "      <th>210_sales_channels</th>\n",
              "      <th>189_payment_methods</th>\n",
              "      <th>158_charact_organize_products_on_shelves</th>\n",
              "      <th>4_number_permanent_employees_last_year</th>\n",
              "      <th>145_number_direct_competitors</th>\n",
              "    </tr>\n",
              "  </thead>\n",
              "  <tbody>\n",
              "    <tr>\n",
              "      <th>0</th>\n",
              "      <td>November 12, 2022</td>\n",
              "      <td>Salomon Abdala Perez</td>\n",
              "      <td>Tailor</td>\n",
              "      <td>no</td>\n",
              "      <td>no</td>\n",
              "      <td>2021-04-12</td>\n",
              "      <td>yes</td>\n",
              "      <td>Llamada a Teléfono celular,Llamada a Teléfono ...</td>\n",
              "      <td>Efectivo,Transferencia interbancaria</td>\n",
              "      <td>Categoría (e.g. limpieza, aseo personal, comes...</td>\n",
              "      <td>2.0</td>\n",
              "      <td>3.0</td>\n",
              "    </tr>\n",
              "    <tr>\n",
              "      <th>1</th>\n",
              "      <td>November 12, 2022</td>\n",
              "      <td>Salomon Abdala Perez</td>\n",
              "      <td>Grocery store (aka. nanostore)</td>\n",
              "      <td>yes</td>\n",
              "      <td>yes</td>\n",
              "      <td>2012-08-12</td>\n",
              "      <td>yes</td>\n",
              "      <td>WhatsApp</td>\n",
              "      <td>Efectivo,Transferencia interbancaria</td>\n",
              "      <td>Categoría (e.g. limpieza, aseo personal, comes...</td>\n",
              "      <td>1.0</td>\n",
              "      <td>4.0</td>\n",
              "    </tr>\n",
              "    <tr>\n",
              "      <th>2</th>\n",
              "      <td>November 12, 2022</td>\n",
              "      <td>Salomon Abdala Perez</td>\n",
              "      <td>Grocery store (aka. nanostore)</td>\n",
              "      <td>no</td>\n",
              "      <td>no</td>\n",
              "      <td>2022-08-12</td>\n",
              "      <td>yes</td>\n",
              "      <td>Redes sociales (e.g. Facebook, Instagram),What...</td>\n",
              "      <td>Efectivo,Tarjeta de débito y/o crédito</td>\n",
              "      <td>Categoría (e.g. limpieza, aseo personal, comes...</td>\n",
              "      <td>2.0</td>\n",
              "      <td>0.0</td>\n",
              "    </tr>\n",
              "    <tr>\n",
              "      <th>3</th>\n",
              "      <td>November 12, 2022</td>\n",
              "      <td>Salomon Abdala Perez</td>\n",
              "      <td>Grocery store (aka. nanostore)</td>\n",
              "      <td>no</td>\n",
              "      <td>no</td>\n",
              "      <td>2008-11-12</td>\n",
              "      <td>yes</td>\n",
              "      <td>Llamada a Teléfono fijo</td>\n",
              "      <td>Efectivo,Tarjeta de débito y/o crédito,Transfe...</td>\n",
              "      <td>Categoría (e.g. limpieza, aseo personal, comes...</td>\n",
              "      <td>1.0</td>\n",
              "      <td>4.0</td>\n",
              "    </tr>\n",
              "    <tr>\n",
              "      <th>4</th>\n",
              "      <td>November 12, 2022</td>\n",
              "      <td>Salomon Abdala Perez</td>\n",
              "      <td>Grocery store (aka. nanostore)</td>\n",
              "      <td>no</td>\n",
              "      <td>no</td>\n",
              "      <td>2007-10-12</td>\n",
              "      <td>yes</td>\n",
              "      <td>Llamada a Teléfono celular</td>\n",
              "      <td>Efectivo,Tarjeta de débito y/o crédito,Transfe...</td>\n",
              "      <td>Venta cruzada (e.g. cereal + leche)</td>\n",
              "      <td>0.0</td>\n",
              "      <td>0.0</td>\n",
              "    </tr>\n",
              "    <tr>\n",
              "      <th>...</th>\n",
              "      <td>...</td>\n",
              "      <td>...</td>\n",
              "      <td>...</td>\n",
              "      <td>...</td>\n",
              "      <td>...</td>\n",
              "      <td>...</td>\n",
              "      <td>...</td>\n",
              "      <td>...</td>\n",
              "      <td>...</td>\n",
              "      <td>...</td>\n",
              "      <td>...</td>\n",
              "      <td>...</td>\n",
              "    </tr>\n",
              "    <tr>\n",
              "      <th>166</th>\n",
              "      <td>November 3, 2022</td>\n",
              "      <td>Emilio Garza</td>\n",
              "      <td>Grocery store (aka. nanostore)</td>\n",
              "      <td>no</td>\n",
              "      <td>no</td>\n",
              "      <td>no register</td>\n",
              "      <td>sin registro</td>\n",
              "      <td>sin registro</td>\n",
              "      <td>sin registro</td>\n",
              "      <td>sin registro</td>\n",
              "      <td>1.0</td>\n",
              "      <td>2.1</td>\n",
              "    </tr>\n",
              "    <tr>\n",
              "      <th>167</th>\n",
              "      <td>November 3, 2022</td>\n",
              "      <td>Emilio Garza</td>\n",
              "      <td>Grocery store (aka. nanostore)</td>\n",
              "      <td>no</td>\n",
              "      <td>no</td>\n",
              "      <td>no register</td>\n",
              "      <td>sin registro</td>\n",
              "      <td>sin registro</td>\n",
              "      <td>sin registro</td>\n",
              "      <td>sin registro</td>\n",
              "      <td>1.0</td>\n",
              "      <td>2.1</td>\n",
              "    </tr>\n",
              "    <tr>\n",
              "      <th>168</th>\n",
              "      <td>November 3, 2022</td>\n",
              "      <td>Emilio Garza</td>\n",
              "      <td>Micro-restaurant (aka. fondita)</td>\n",
              "      <td>no</td>\n",
              "      <td>yes</td>\n",
              "      <td>no register</td>\n",
              "      <td>sin registro</td>\n",
              "      <td>sin registro</td>\n",
              "      <td>sin registro</td>\n",
              "      <td>sin registro</td>\n",
              "      <td>1.0</td>\n",
              "      <td>2.1</td>\n",
              "    </tr>\n",
              "    <tr>\n",
              "      <th>169</th>\n",
              "      <td>November 3, 2022</td>\n",
              "      <td>Francisco Adán</td>\n",
              "      <td>Micro-restaurant (aka. fondita)</td>\n",
              "      <td>no</td>\n",
              "      <td>yes</td>\n",
              "      <td>no register</td>\n",
              "      <td>sin registro</td>\n",
              "      <td>sin registro</td>\n",
              "      <td>sin registro</td>\n",
              "      <td>sin registro</td>\n",
              "      <td>1.0</td>\n",
              "      <td>2.1</td>\n",
              "    </tr>\n",
              "    <tr>\n",
              "      <th>170</th>\n",
              "      <td>November 3, 2022</td>\n",
              "      <td>Emilio Garza</td>\n",
              "      <td>Micro-restaurant (aka. fondita)</td>\n",
              "      <td>no</td>\n",
              "      <td>yes</td>\n",
              "      <td>2022-11-03</td>\n",
              "      <td>sin registro</td>\n",
              "      <td>sin registro</td>\n",
              "      <td>sin registro</td>\n",
              "      <td>sin registro</td>\n",
              "      <td>1.0</td>\n",
              "      <td>2.1</td>\n",
              "    </tr>\n",
              "  </tbody>\n",
              "</table>\n",
              "<p>171 rows × 12 columns</p>\n",
              "</div>\n",
              "    <div class=\"colab-df-buttons\">\n",
              "\n",
              "  <div class=\"colab-df-container\">\n",
              "    <button class=\"colab-df-convert\" onclick=\"convertToInteractive('df-2fd095dc-6005-448c-a71a-d1d47cd0db03')\"\n",
              "            title=\"Convert this dataframe to an interactive table.\"\n",
              "            style=\"display:none;\">\n",
              "\n",
              "  <svg xmlns=\"http://www.w3.org/2000/svg\" height=\"24px\" viewBox=\"0 -960 960 960\">\n",
              "    <path d=\"M120-120v-720h720v720H120Zm60-500h600v-160H180v160Zm220 220h160v-160H400v160Zm0 220h160v-160H400v160ZM180-400h160v-160H180v160Zm440 0h160v-160H620v160ZM180-180h160v-160H180v160Zm440 0h160v-160H620v160Z\"/>\n",
              "  </svg>\n",
              "    </button>\n",
              "\n",
              "  <style>\n",
              "    .colab-df-container {\n",
              "      display:flex;\n",
              "      gap: 12px;\n",
              "    }\n",
              "\n",
              "    .colab-df-convert {\n",
              "      background-color: #E8F0FE;\n",
              "      border: none;\n",
              "      border-radius: 50%;\n",
              "      cursor: pointer;\n",
              "      display: none;\n",
              "      fill: #1967D2;\n",
              "      height: 32px;\n",
              "      padding: 0 0 0 0;\n",
              "      width: 32px;\n",
              "    }\n",
              "\n",
              "    .colab-df-convert:hover {\n",
              "      background-color: #E2EBFA;\n",
              "      box-shadow: 0px 1px 2px rgba(60, 64, 67, 0.3), 0px 1px 3px 1px rgba(60, 64, 67, 0.15);\n",
              "      fill: #174EA6;\n",
              "    }\n",
              "\n",
              "    .colab-df-buttons div {\n",
              "      margin-bottom: 4px;\n",
              "    }\n",
              "\n",
              "    [theme=dark] .colab-df-convert {\n",
              "      background-color: #3B4455;\n",
              "      fill: #D2E3FC;\n",
              "    }\n",
              "\n",
              "    [theme=dark] .colab-df-convert:hover {\n",
              "      background-color: #434B5C;\n",
              "      box-shadow: 0px 1px 3px 1px rgba(0, 0, 0, 0.15);\n",
              "      filter: drop-shadow(0px 1px 2px rgba(0, 0, 0, 0.3));\n",
              "      fill: #FFFFFF;\n",
              "    }\n",
              "  </style>\n",
              "\n",
              "    <script>\n",
              "      const buttonEl =\n",
              "        document.querySelector('#df-2fd095dc-6005-448c-a71a-d1d47cd0db03 button.colab-df-convert');\n",
              "      buttonEl.style.display =\n",
              "        google.colab.kernel.accessAllowed ? 'block' : 'none';\n",
              "\n",
              "      async function convertToInteractive(key) {\n",
              "        const element = document.querySelector('#df-2fd095dc-6005-448c-a71a-d1d47cd0db03');\n",
              "        const dataTable =\n",
              "          await google.colab.kernel.invokeFunction('convertToInteractive',\n",
              "                                                    [key], {});\n",
              "        if (!dataTable) return;\n",
              "\n",
              "        const docLinkHtml = 'Like what you see? Visit the ' +\n",
              "          '<a target=\"_blank\" href=https://colab.research.google.com/notebooks/data_table.ipynb>data table notebook</a>'\n",
              "          + ' to learn more about interactive tables.';\n",
              "        element.innerHTML = '';\n",
              "        dataTable['output_type'] = 'display_data';\n",
              "        await google.colab.output.renderOutput(dataTable, element);\n",
              "        const docLink = document.createElement('div');\n",
              "        docLink.innerHTML = docLinkHtml;\n",
              "        element.appendChild(docLink);\n",
              "      }\n",
              "    </script>\n",
              "  </div>\n",
              "\n",
              "\n",
              "<div id=\"df-abbf2525-eb39-44e6-9065-48dc7f382f96\">\n",
              "  <button class=\"colab-df-quickchart\" onclick=\"quickchart('df-abbf2525-eb39-44e6-9065-48dc7f382f96')\"\n",
              "            title=\"Suggest charts\"\n",
              "            style=\"display:none;\">\n",
              "\n",
              "<svg xmlns=\"http://www.w3.org/2000/svg\" height=\"24px\"viewBox=\"0 0 24 24\"\n",
              "     width=\"24px\">\n",
              "    <g>\n",
              "        <path d=\"M19 3H5c-1.1 0-2 .9-2 2v14c0 1.1.9 2 2 2h14c1.1 0 2-.9 2-2V5c0-1.1-.9-2-2-2zM9 17H7v-7h2v7zm4 0h-2V7h2v10zm4 0h-2v-4h2v4z\"/>\n",
              "    </g>\n",
              "</svg>\n",
              "  </button>\n",
              "\n",
              "<style>\n",
              "  .colab-df-quickchart {\n",
              "      --bg-color: #E8F0FE;\n",
              "      --fill-color: #1967D2;\n",
              "      --hover-bg-color: #E2EBFA;\n",
              "      --hover-fill-color: #174EA6;\n",
              "      --disabled-fill-color: #AAA;\n",
              "      --disabled-bg-color: #DDD;\n",
              "  }\n",
              "\n",
              "  [theme=dark] .colab-df-quickchart {\n",
              "      --bg-color: #3B4455;\n",
              "      --fill-color: #D2E3FC;\n",
              "      --hover-bg-color: #434B5C;\n",
              "      --hover-fill-color: #FFFFFF;\n",
              "      --disabled-bg-color: #3B4455;\n",
              "      --disabled-fill-color: #666;\n",
              "  }\n",
              "\n",
              "  .colab-df-quickchart {\n",
              "    background-color: var(--bg-color);\n",
              "    border: none;\n",
              "    border-radius: 50%;\n",
              "    cursor: pointer;\n",
              "    display: none;\n",
              "    fill: var(--fill-color);\n",
              "    height: 32px;\n",
              "    padding: 0;\n",
              "    width: 32px;\n",
              "  }\n",
              "\n",
              "  .colab-df-quickchart:hover {\n",
              "    background-color: var(--hover-bg-color);\n",
              "    box-shadow: 0 1px 2px rgba(60, 64, 67, 0.3), 0 1px 3px 1px rgba(60, 64, 67, 0.15);\n",
              "    fill: var(--button-hover-fill-color);\n",
              "  }\n",
              "\n",
              "  .colab-df-quickchart-complete:disabled,\n",
              "  .colab-df-quickchart-complete:disabled:hover {\n",
              "    background-color: var(--disabled-bg-color);\n",
              "    fill: var(--disabled-fill-color);\n",
              "    box-shadow: none;\n",
              "  }\n",
              "\n",
              "  .colab-df-spinner {\n",
              "    border: 2px solid var(--fill-color);\n",
              "    border-color: transparent;\n",
              "    border-bottom-color: var(--fill-color);\n",
              "    animation:\n",
              "      spin 1s steps(1) infinite;\n",
              "  }\n",
              "\n",
              "  @keyframes spin {\n",
              "    0% {\n",
              "      border-color: transparent;\n",
              "      border-bottom-color: var(--fill-color);\n",
              "      border-left-color: var(--fill-color);\n",
              "    }\n",
              "    20% {\n",
              "      border-color: transparent;\n",
              "      border-left-color: var(--fill-color);\n",
              "      border-top-color: var(--fill-color);\n",
              "    }\n",
              "    30% {\n",
              "      border-color: transparent;\n",
              "      border-left-color: var(--fill-color);\n",
              "      border-top-color: var(--fill-color);\n",
              "      border-right-color: var(--fill-color);\n",
              "    }\n",
              "    40% {\n",
              "      border-color: transparent;\n",
              "      border-right-color: var(--fill-color);\n",
              "      border-top-color: var(--fill-color);\n",
              "    }\n",
              "    60% {\n",
              "      border-color: transparent;\n",
              "      border-right-color: var(--fill-color);\n",
              "    }\n",
              "    80% {\n",
              "      border-color: transparent;\n",
              "      border-right-color: var(--fill-color);\n",
              "      border-bottom-color: var(--fill-color);\n",
              "    }\n",
              "    90% {\n",
              "      border-color: transparent;\n",
              "      border-bottom-color: var(--fill-color);\n",
              "    }\n",
              "  }\n",
              "</style>\n",
              "\n",
              "  <script>\n",
              "    async function quickchart(key) {\n",
              "      const quickchartButtonEl =\n",
              "        document.querySelector('#' + key + ' button');\n",
              "      quickchartButtonEl.disabled = true;  // To prevent multiple clicks.\n",
              "      quickchartButtonEl.classList.add('colab-df-spinner');\n",
              "      try {\n",
              "        const charts = await google.colab.kernel.invokeFunction(\n",
              "            'suggestCharts', [key], {});\n",
              "      } catch (error) {\n",
              "        console.error('Error during call to suggestCharts:', error);\n",
              "      }\n",
              "      quickchartButtonEl.classList.remove('colab-df-spinner');\n",
              "      quickchartButtonEl.classList.add('colab-df-quickchart-complete');\n",
              "    }\n",
              "    (() => {\n",
              "      let quickchartButtonEl =\n",
              "        document.querySelector('#df-abbf2525-eb39-44e6-9065-48dc7f382f96 button');\n",
              "      quickchartButtonEl.style.display =\n",
              "        google.colab.kernel.accessAllowed ? 'block' : 'none';\n",
              "    })();\n",
              "  </script>\n",
              "</div>\n",
              "    </div>\n",
              "  </div>\n"
            ]
          },
          "metadata": {},
          "execution_count": 37
        }
      ]
    },
    {
      "cell_type": "code",
      "source": [
        "table= freq_tbl(Dfinal['_title'])\n",
        "Filtro= table[table['frequency']>1]\n",
        "Filtro_index= Filtro.set_index('_title')\n",
        "Filtro_index[\"frequency\"].plot(kind='pie', figsize=(10,5), shadow=True, autopct=\"%0.1f %%\")"
      ],
      "metadata": {
        "id": "ClHImQ5Ihh71"
      },
      "execution_count": null,
      "outputs": []
    },
    {
      "cell_type": "code",
      "source": [
        "table= freq_tbl(Dfinal['232_type_of_store'])\n",
        "Filtro= table[table['frequency']>1]\n",
        "Filtro_index= Filtro.set_index('232_type_of_store')\n",
        "Filtro_index[\"frequency\"].plot(kind='pie', figsize=(10,5), shadow=True, autopct=\"%0.1f %%\")"
      ],
      "metadata": {
        "id": "UAnjm8nEh2Mr"
      },
      "execution_count": null,
      "outputs": []
    },
    {
      "cell_type": "code",
      "source": [
        "table= freq_tbl(Dfinal['99_does_the_micro_retailer_exhibits_products_outside_'])\n",
        "Filtro= table[table['frequency']>1]\n",
        "Filtro_index= Filtro.set_index('99_does_the_micro_retailer_exhibits_products_outside_')\n",
        "Filtro_index[\"frequency\"].plot(kind='pie', figsize=(10,5), shadow=True, autopct=\"%0.1f %%\")"
      ],
      "metadata": {
        "id": "xEyPsobJh48s"
      },
      "execution_count": null,
      "outputs": []
    },
    {
      "cell_type": "code",
      "source": [
        "table= freq_tbl(Dfinal['102_does_the_micro_retailer_sells_fresh_products_'])\n",
        "Filtro= table[table['frequency']>1]\n",
        "Filtro_index= Filtro.set_index('102_does_the_micro_retailer_sells_fresh_products_')\n",
        "Filtro_index[\"frequency\"].plot(kind='pie', figsize=(10,5), shadow=True, autopct=\"%0.1f %%\")"
      ],
      "metadata": {
        "id": "gBijpDxsh_2N"
      },
      "execution_count": null,
      "outputs": []
    },
    {
      "cell_type": "code",
      "source": [
        "table= freq_tbl(Dfinal['233_date_establishment'])\n",
        "Filtro= table[table['frequency']>1]\n",
        "Filtro_index= Filtro.set_index('233_date_establishment')\n",
        "Filtro_index[\"frequency\"].plot(kind='pie', figsize=(10,5), shadow=True, autopct=\"%0.1f %%\")"
      ],
      "metadata": {
        "id": "EEd-SZeBiDi7"
      },
      "execution_count": null,
      "outputs": []
    },
    {
      "cell_type": "code",
      "source": [
        "table= freq_tbl(Dfinal['186_internet_connection'])\n",
        "Filtro= table[table['frequency']>1]\n",
        "Filtro_index= Filtro.set_index('186_internet_connection')\n",
        "Filtro_index[\"frequency\"].plot(kind='pie', figsize=(10,5), shadow=True, autopct=\"%0.1f %%\")"
      ],
      "metadata": {
        "id": "ckCqmS3Mii2T"
      },
      "execution_count": null,
      "outputs": []
    },
    {
      "cell_type": "code",
      "source": [
        "\n",
        "table= freq_tbl(Dfinal['189_payment_methods'])\n",
        "Filtro= table[table['frequency']>1]\n",
        "Filtro_index= Filtro.set_index('189_payment_methods')\n",
        "Filtro_index[\"frequency\"].plot(kind='pie', figsize=(10,5), shadow=True, autopct=\"%0.1f %%\")"
      ],
      "metadata": {
        "id": "CXn9JlrBiyAp"
      },
      "execution_count": null,
      "outputs": []
    },
    {
      "cell_type": "code",
      "source": [
        "table= freq_tbl(Dfinal['158_charact_organize_products_on_shelves'])\n",
        "Filtro= table[table['frequency']>1]\n",
        "Filtro_index= Filtro.set_index('158_charact_organize_products_on_shelves')\n",
        "Filtro_index[\"frequency\"].plot(kind='pie', figsize=(10,5), shadow=True, autopct=\"%0.1f %%\")"
      ],
      "metadata": {
        "id": "b8txZqutjdU-"
      },
      "execution_count": null,
      "outputs": []
    },
    {
      "cell_type": "code",
      "source": [],
      "metadata": {
        "id": "lGCJtZENjgLf"
      },
      "execution_count": null,
      "outputs": []
    }
  ]
}